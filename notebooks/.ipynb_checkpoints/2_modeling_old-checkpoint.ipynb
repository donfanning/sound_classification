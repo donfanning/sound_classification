{
 "cells": [
  {
   "cell_type": "markdown",
   "metadata": {},
   "source": [
    "# Preprocessing and Modeling"
   ]
  },
  {
   "cell_type": "markdown",
   "metadata": {},
   "source": [
    "### imports"
   ]
  },
  {
   "cell_type": "code",
   "execution_count": 28,
   "metadata": {},
   "outputs": [],
   "source": [
    "# What you will need to run the notebook\n",
    "import os\n",
    "import pandas as pd\n",
    "import numpy as np\n",
    "import librosa\n",
    "import librosa.display\n",
    "import matplotlib.pyplot as plt\n",
    "import IPython.display as ipd\n",
    "import h5py\n",
    "from sklearn.model_selection import train_test_split\n",
    "import keras\n",
    "from keras.models import Sequential\n",
    "from keras import regularizers\n",
    "from keras.layers import Input, Dense, Dropout\n",
    "from keras.layers.convolutional import Conv1D\n",
    "from keras.layers.pooling import MaxPooling1D, GlobalMaxPooling1D\n",
    "from keras.layers.normalization import BatchNormalization\n",
    "from keras.utils import np_utils"
   ]
  },
  {
   "cell_type": "markdown",
   "metadata": {},
   "source": [
    "### convert wavfiles and filenames to lists\n",
    "Downloading the dataset and running the first cell after uncommenting the filepath will create the arrays from the original files.  I did not include them and did include the numpy files created after running the code for importing if desired."
   ]
  },
  {
   "cell_type": "code",
   "execution_count": 2,
   "metadata": {},
   "outputs": [],
   "source": [
    "# Saves numpy arrays of the spectograms for each wave file to a list\n",
    "\n",
    "#filepath = './speech_commands_v0.01/'\n",
    "#outpath = './mels/'\n",
    "word = {}\n",
    "arrays = []\n",
    "subdirs = []\n",
    "for subdir in os.listdir(filepath):\n",
    "    if subdir not in ['.DS_Store', 'validation_list.txt', 'LICENSE', 'README.md', 'testing_list.txt']:    \n",
    "        word[subdir] = len(word) \n",
    "        word_folder = os.path.join(filepath, subdir) \n",
    "        for file in os.listdir(word_folder):\n",
    "            if file.endswith('.wav'):\n",
    "                wavefile  = os.path.join(word_folder, file)\n",
    "                x, sr = librosa.load(wavefile)    \n",
    "                S = librosa.feature.melspectrogram(x).T \n",
    "                array = librosa.power_to_db(S) \n",
    "                arrays.append(array)\n",
    "                subdirs.append(word[subdir])  \n",
    "#np.save(outpath + 'word_arrays.npy', arrays)\n",
    "#np.save(outpath + 'word_targets.npy', subdirs)"
   ]
  },
  {
   "cell_type": "code",
   "execution_count": 80,
   "metadata": {},
   "outputs": [],
   "source": [
    "#saves the 31 categories to dictionary for use in other notebook\n",
    "f = open('category.py', 'w')\n",
    "f.write(str(word))\n",
    "f.close()"
   ]
  },
  {
   "cell_type": "markdown",
   "metadata": {},
   "source": [
    "## reshape"
   ]
  },
  {
   "cell_type": "code",
   "execution_count": 20,
   "metadata": {},
   "outputs": [],
   "source": [
    "#there are 64,729 files\n",
    "arrays = np.load('./mels/word_arrays.npy')\n",
    "targets = np.load('./mels/word_targets.npy')"
   ]
  },
  {
   "cell_type": "code",
   "execution_count": 21,
   "metadata": {},
   "outputs": [],
   "source": [
    "#check shapes of array file and make shape for data array block\n",
    "h, w = arrays[0].shape\n",
    "my_input = np.zeros(shape=(len(arrays), h, w))"
   ]
  },
  {
   "cell_type": "code",
   "execution_count": 22,
   "metadata": {},
   "outputs": [],
   "source": [
    "shapes = set()\n",
    "for i in range(len(arrays)):\n",
    "    shapes.add(arrays[i].shape)"
   ]
  },
  {
   "cell_type": "code",
   "execution_count": 67,
   "metadata": {
    "scrolled": true
   },
   "outputs": [],
   "source": [
    "#remove anomalously shaped files, 58,254 remain\n",
    "shapes = [x.shape for x in arrays]\n",
    "shapes = pd.Series(shapes)"
   ]
  },
  {
   "cell_type": "code",
   "execution_count": 24,
   "metadata": {},
   "outputs": [],
   "source": [
    "target_shape = (44, 128)\n",
    "has_shape = np.array([x.shape == target_shape for x in arrays])\n",
    "indices_with_shape = np.argwhere(has_shape).flatten()"
   ]
  },
  {
   "cell_type": "code",
   "execution_count": 25,
   "metadata": {},
   "outputs": [],
   "source": [
    "my_inputs = np.stack(arrays[indices_with_shape])\n",
    "my_targets = targets[indices_with_shape]"
   ]
  },
  {
   "cell_type": "markdown",
   "metadata": {},
   "source": [
    "## split & encode\n",
    "The target data must be binarized, which is simpler shapewise after the split, and since scaling effected the accuracy I chose to discard it, the spectograms are already standardized by the regularity of intensity and time and frequency ranges."
   ]
  },
  {
   "cell_type": "code",
   "execution_count": 60,
   "metadata": {},
   "outputs": [],
   "source": [
    "X_train, X_test, y_train, y_test = train_test_split(my_inputs,\n",
    "    my_targets,\n",
    "    test_size=0.1,\n",
    "    random_state = 42,\n",
    "    stratify=y)"
   ]
  },
  {
   "cell_type": "code",
   "execution_count": 70,
   "metadata": {},
   "outputs": [],
   "source": [
    "hot_train = keras.utils.to_categorical(y_train) \n",
    "hot_test = keras.utils.to_categorical(y_test) "
   ]
  },
  {
   "cell_type": "markdown",
   "metadata": {},
   "source": [
    "# model\n",
    "The 1Dimensional CNN outperformed the other models by speed and accuracy"
   ]
  },
  {
   "cell_type": "code",
   "execution_count": 45,
   "metadata": {},
   "outputs": [
    {
     "name": "stdout",
     "output_type": "stream",
     "text": [
      "WARNING:tensorflow:From /Users/alannabesaw/anaconda3/lib/python3.6/site-packages/tensorflow/python/framework/op_def_library.py:263: colocate_with (from tensorflow.python.framework.ops) is deprecated and will be removed in a future version.\n",
      "Instructions for updating:\n",
      "Colocations handled automatically by placer.\n",
      "WARNING:tensorflow:From /Users/alannabesaw/anaconda3/lib/python3.6/site-packages/keras/backend/tensorflow_backend.py:3445: calling dropout (from tensorflow.python.ops.nn_ops) with keep_prob is deprecated and will be removed in a future version.\n",
      "Instructions for updating:\n",
      "Please use `rate` instead of `keep_prob`. Rate should be set to `rate = 1 - keep_prob`.\n",
      "_________________________________________________________________\n",
      "Layer (type)                 Output Shape              Param #   \n",
      "=================================================================\n",
      "conv1d_1 (Conv1D)            (None, 41, 64)            32832     \n",
      "_________________________________________________________________\n",
      "batch_normalization_1 (Batch (None, 41, 64)            256       \n",
      "_________________________________________________________________\n",
      "max_pooling1d_1 (MaxPooling1 (None, 20, 64)            0         \n",
      "_________________________________________________________________\n",
      "conv1d_2 (Conv1D)            (None, 17, 128)           32896     \n",
      "_________________________________________________________________\n",
      "batch_normalization_2 (Batch (None, 17, 128)           512       \n",
      "_________________________________________________________________\n",
      "max_pooling1d_2 (MaxPooling1 (None, 8, 128)            0         \n",
      "_________________________________________________________________\n",
      "conv1d_3 (Conv1D)            (None, 5, 256)            131328    \n",
      "_________________________________________________________________\n",
      "batch_normalization_3 (Batch (None, 5, 256)            1024      \n",
      "_________________________________________________________________\n",
      "max_pooling1d_3 (MaxPooling1 (None, 2, 256)            0         \n",
      "_________________________________________________________________\n",
      "global_max_pooling1d_1 (Glob (None, 256)               0         \n",
      "_________________________________________________________________\n",
      "dropout_1 (Dropout)          (None, 256)               0         \n",
      "_________________________________________________________________\n",
      "dense_1 (Dense)              (None, 256)               65792     \n",
      "_________________________________________________________________\n",
      "dropout_2 (Dropout)          (None, 256)               0         \n",
      "_________________________________________________________________\n",
      "dense_2 (Dense)              (None, 31)                7967      \n",
      "=================================================================\n",
      "Total params: 272,607\n",
      "Trainable params: 271,711\n",
      "Non-trainable params: 896\n",
      "_________________________________________________________________\n"
     ]
    }
   ],
   "source": [
    "model = Sequential()\n",
    "model.add(Conv1D(filters = 64, kernel_size = 4, \n",
    "                 activation = 'relu', \n",
    "                 input_shape = (44, 128),\n",
    "                 kernel_regularizer=regularizers.l2(0.001)))\n",
    "model.add(BatchNormalization())\n",
    "model.add(MaxPooling1D(pool_size = 2))\n",
    "model.add(Conv1D(128, kernel_size = 4, activation = 'relu'))\n",
    "model.add(BatchNormalization())\n",
    "model.add(MaxPooling1D(pool_size = 2))\n",
    "model.add(Conv1D(256, kernel_size = 4, activation = 'relu'))\n",
    "model.add(BatchNormalization())\n",
    "model.add(MaxPooling1D(pool_size = 2))\n",
    "model.add(GlobalMaxPooling1D())\n",
    "model.add(Dropout(0.3))   \n",
    "model.add(Dense(256, activation = 'relu'))\n",
    "model.add(Dropout(0.3))\n",
    "model.add(Dense(31, activation = 'softmax',))\n",
    "model.compile(loss = 'categorical_crossentropy',\n",
    "            optimizer = 'adam', \n",
    "            metrics = ['accuracy' ])\n",
    "model.summary()"
   ]
  },
  {
   "cell_type": "code",
   "execution_count": 46,
   "metadata": {},
   "outputs": [
    {
     "name": "stdout",
     "output_type": "stream",
     "text": [
      "WARNING:tensorflow:From /Users/alannabesaw/anaconda3/lib/python3.6/site-packages/tensorflow/python/ops/math_ops.py:3066: to_int32 (from tensorflow.python.ops.math_ops) is deprecated and will be removed in a future version.\n",
      "Instructions for updating:\n",
      "Use tf.cast instead.\n",
      "WARNING:tensorflow:From /Users/alannabesaw/anaconda3/lib/python3.6/site-packages/tensorflow/python/ops/math_grad.py:102: div (from tensorflow.python.ops.math_ops) is deprecated and will be removed in a future version.\n",
      "Instructions for updating:\n",
      "Deprecated in favor of operator or tf.math.divide.\n",
      "Train on 52428 samples, validate on 5826 samples\n",
      "Epoch 1/20\n",
      "52428/52428 [==============================] - 94s 2ms/step - loss: 2.5366 - acc: 0.3285 - val_loss: 1.5143 - val_acc: 0.5745\n",
      "Epoch 2/20\n",
      "52428/52428 [==============================] - 30s 581us/step - loss: 1.2232 - acc: 0.6616 - val_loss: 0.9008 - val_acc: 0.7602\n",
      "Epoch 3/20\n",
      "52428/52428 [==============================] - 21s 398us/step - loss: 0.8807 - acc: 0.7634 - val_loss: 0.7201 - val_acc: 0.8139\n",
      "Epoch 4/20\n",
      "52428/52428 [==============================] - 20s 391us/step - loss: 0.7263 - acc: 0.8052 - val_loss: 0.6776 - val_acc: 0.8220\n",
      "Epoch 5/20\n",
      "52428/52428 [==============================] - 20s 378us/step - loss: 0.6231 - acc: 0.8364 - val_loss: 0.5736 - val_acc: 0.8543\n",
      "Epoch 6/20\n",
      "52428/52428 [==============================] - 21s 404us/step - loss: 0.5498 - acc: 0.8578 - val_loss: 0.4944 - val_acc: 0.8788\n",
      "Epoch 7/20\n",
      "52428/52428 [==============================] - 24s 458us/step - loss: 0.5033 - acc: 0.8719 - val_loss: 0.5433 - val_acc: 0.8625\n",
      "Epoch 8/20\n",
      "52428/52428 [==============================] - 20s 383us/step - loss: 0.4595 - acc: 0.8836 - val_loss: 0.4762 - val_acc: 0.8802\n",
      "Epoch 9/20\n",
      "52428/52428 [==============================] - 20s 377us/step - loss: 0.4200 - acc: 0.8926 - val_loss: 0.4339 - val_acc: 0.8948\n",
      "Epoch 10/20\n",
      "52428/52428 [==============================] - 20s 386us/step - loss: 0.3969 - acc: 0.9008 - val_loss: 0.4092 - val_acc: 0.9004\n",
      "Epoch 11/20\n",
      "52428/52428 [==============================] - 21s 397us/step - loss: 0.3789 - acc: 0.9046 - val_loss: 0.3925 - val_acc: 0.9053\n",
      "Epoch 12/20\n",
      "52428/52428 [==============================] - 20s 381us/step - loss: 0.3509 - acc: 0.9124 - val_loss: 0.3817 - val_acc: 0.9101\n",
      "Epoch 13/20\n",
      "52428/52428 [==============================] - 20s 389us/step - loss: 0.3312 - acc: 0.9172 - val_loss: 0.3899 - val_acc: 0.9041\n",
      "Epoch 14/20\n",
      "52428/52428 [==============================] - 20s 376us/step - loss: 0.3143 - acc: 0.9219 - val_loss: 0.4260 - val_acc: 0.8924\n",
      "Epoch 15/20\n",
      "52428/52428 [==============================] - 22s 416us/step - loss: 0.3073 - acc: 0.9224 - val_loss: 0.3897 - val_acc: 0.9003\n",
      "Epoch 16/20\n",
      "52428/52428 [==============================] - 23s 439us/step - loss: 0.2892 - acc: 0.9282 - val_loss: 0.5158 - val_acc: 0.8627\n",
      "Epoch 17/20\n",
      "52428/52428 [==============================] - 20s 374us/step - loss: 0.2766 - acc: 0.9314 - val_loss: 0.3469 - val_acc: 0.9145\n",
      "Epoch 18/20\n",
      "52428/52428 [==============================] - 21s 396us/step - loss: 0.2643 - acc: 0.9338 - val_loss: 0.4326 - val_acc: 0.8956\n",
      "Epoch 19/20\n",
      "52428/52428 [==============================] - 21s 397us/step - loss: 0.2568 - acc: 0.9363 - val_loss: 0.3812 - val_acc: 0.9051\n",
      "Epoch 20/20\n",
      "52428/52428 [==============================] - 20s 376us/step - loss: 0.2472 - acc: 0.9385 - val_loss: 0.4063 - val_acc: 0.8996\n"
     ]
    }
   ],
   "source": [
    "history= model.fit(X_train,\n",
    "              hot_train,\n",
    "              batch_size=1000,\n",
    "              validation_data=(X_test, hot_test),\n",
    "              epochs=20,\n",
    "              verbose=1)"
   ]
  },
  {
   "cell_type": "code",
   "execution_count": 51,
   "metadata": {},
   "outputs": [],
   "source": [
    "#save model for use in evaluation notebook.\n",
    "model.save('model.h5')"
   ]
  },
  {
   "cell_type": "code",
   "execution_count": 58,
   "metadata": {},
   "outputs": [
    {
     "data": {
      "image/png": "[encoded data removed]",
      "text/plain": [
       "<Figure size 1080x288 with 2 Axes>"
      ]
     },
     "metadata": {
      "needs_background": "light"
     },
     "output_type": "display_data"
    }
   ],
   "source": [
    "plt.figure(figsize = (15, 4))\n",
    "plt.subplot(121)\n",
    "plt.plot(history.history['loss'], label = 'train loss')\n",
    "plt.plot(history.history['val_loss'], label = 'test loss')\n",
    "plt.legend()\n",
    "plt.subplot(122)\n",
    "plt.plot(history.history['acc'], label = 'train accuracy')\n",
    "plt.plot(history.history['val_acc'], label = 'test accuracy')\n",
    "plt.legend();"
   ]
  },
  {
   "cell_type": "code",
   "execution_count": 50,
   "metadata": {},
   "outputs": [
    {
     "name": "stdout",
     "output_type": "stream",
     "text": [
      "5826/5826 [==============================] - 1s 225us/step\n",
      "loss: 0.40629390912840874\n",
      "acc: 0.8995880535530381\n"
     ]
    }
   ],
   "source": [
    "#good accuracy, ready to test on unseen observations\n",
    "modelscore = model.evaluate(X_test, hot_test, verbose=1)\n",
    "modellabels = model.metrics_names\n",
    "print(f'{modellabels[0]}: {modelscore[0]}')\n",
    "print(f'{modellabels[1]}: {modelscore[1]}')"
   ]
  }
 ],
 "metadata": {
  "kernelspec": {
   "display_name": "Python 3",
   "language": "python",
   "name": "python3"
  },
  "language_info": {
   "codemirror_mode": {
    "name": "ipython",
    "version": 3
   },
   "file_extension": ".py",
   "mimetype": "text/x-python",
   "name": "python",
   "nbconvert_exporter": "python",
   "pygments_lexer": "ipython3",
   "version": "3.6.8"
  }
 },
 "nbformat": 4,
 "nbformat_minor": 2
}
